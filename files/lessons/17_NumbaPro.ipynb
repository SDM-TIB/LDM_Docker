{
 "metadata": {
  "name": "17 - NumbaPro"
 },
 "nbformat": 3,
 "nbformat_minor": 0,
 "worksheets": [
  {
   "cells": [
    {
     "cell_type": "markdown",
     "metadata": {},
     "source": [
      "Further Optimization using NumbaPro\n",
      "---\n",
      "\n",
      "One of the most exciting new products from [Continuum Analytics](www.continuum.io) is called NumbaPro, which allows code written in Python to target CUDA-capable GPUs for parallelized computation.  \n",
      "\n",
      "For a quick primer on how parallel computation on GPUs works, check out ???\n",
      "\n",
      "Now, for a brief proof-of-concept look at the capabilities of NumbaPro, let's return to our old friend, 1D Nonlinear Convection.  \n",
      "\n",
      "Yes, this is a trivial problem, but it is a good demonstration of the potential for speed gains using NumbaPro and GPU computation. \n",
      "\n",
      "We'll start by importing the usual libraries, plus the `time` library, so we can measure our performance gains, and also the appropriate libraries from `numbapro`.  \n",
      "\n",
      "`autojit` is the same library we used with regular `numba`, and in fact we'll be using it the same way, to provide a comparison between regular Numba and NumbaPro.  \n",
      "\n",
      "`cuda` is the NumbaPro library that provides the CUDA intrinsics which allow us to target the GPU for computation.  \n",
      "\n",
      "`float32` is a data type.  Python generally takes care of whether we want an `int` or a `str` for us, but when we start delving into the dark depths of memory management, it can be helpful (and sometimes required) to be a bit more specific concerning our data formats.  "
     ]
    },
    {
     "cell_type": "code",
     "collapsed": false,
     "input": [
      "import matplotlib.pyplot as plt\n",
      "import numpy as np\n",
      "import time\n",
      "from numbapro import autojit, cuda, jit, float"
     ],
     "language": "python",
     "metadata": {},
     "outputs": [],
     "prompt_number": 2
    },
    {
     "cell_type": "markdown",
     "metadata": {},
     "source": [
      "The first function we're trying out is a simple implementation using array operations in Numpy.  "
     ]
    },
    {
     "cell_type": "code",
     "collapsed": false,
     "input": [
      "###1-D Nonlinear convection implemented using Numpy\n",
      "def NonLinNumpy(u, un, nx, nt, dx, dt):\n",
      "\n",
      "    ###Run through nt timesteps and plot/animate each step\n",
      "    for n in range(nt): ##loop across number of time steps\n",
      "        un = u.copy()\n",
      "        u[1:] = -un[1:]*dt/dx*(un[1:]-un[:-1])+un[1:]\n",
      "    \n",
      "    return u"
     ],
     "language": "python",
     "metadata": {},
     "outputs": [],
     "prompt_number": 3
    },
    {
     "cell_type": "markdown",
     "metadata": {},
     "source": [
      "The 'vanilla' version is what we used for Step 2, two nested loops and not that efficient.  "
     ]
    },
    {
     "cell_type": "code",
     "collapsed": false,
     "input": [
      "###1-D Nonlinear convection implemented using 'vanilla' Python\n",
      "def NonLinVanilla(u, nx, nt, dx, dt):\n",
      "\n",
      "    for n in range(nt):\n",
      "        for i in range(1,nx-1):\n",
      "            u[i+1] = -u[i]*dt/dx*(u[i]-u[i-1])+u[i]\n",
      "\n",
      "    return u"
     ],
     "language": "python",
     "metadata": {},
     "outputs": [],
     "prompt_number": 4
    },
    {
     "cell_type": "markdown",
     "metadata": {},
     "source": [
      "Here we've implemented the same 'vanilla' version, but we've added the `@autojit` decorator, which will tell Numba to JIT compile this function for a nice speed boost.  "
     ]
    },
    {
     "cell_type": "code",
     "collapsed": false,
     "input": [
      "###1-D Nonlinear convection implemented using Numba JIT compiler (similar to LLVM)\n",
      "@autojit\n",
      "def NonLinNumba(u,un, nx, nt, dx, dt):\n",
      "\n",
      "    for n in range(nt):\n",
      "        for i in range(1,nx):\n",
      "            un[i] = -u[i]*dt/dx*(u[i]-u[i-1])+u[i]\n",
      "\n",
      "    return un"
     ],
     "language": "python",
     "metadata": {},
     "outputs": [],
     "prompt_number": 5
    },
    {
     "cell_type": "markdown",
     "metadata": {},
     "source": [
      "CUDA JIT\n",
      "---\n",
      "\n",
      "There's a lot going on here that will be new to you, so we'll go through it piece by piece.  \n",
      "\n",
      "`@jit(argtypes=[float32[:], float32, float32, float32, float32[:]], target='gpu')`\n",
      "\n",
      "Instead of `@autojit` which automatically figures out data-types for us, we have to specify what kind of variables will be sent to this function (which is actually a CUDA 'kernel').  The `argtypes` above tell the kernel that there will be five variables, three scalar floats and two float arrays.  "
     ]
    },
    {
     "cell_type": "code",
     "collapsed": false,
     "input": [
      "###1-D Nonlinear convection implemented using NumbaPro CUDA-JIT\n",
      "d@jit(argtypes=[float32[:], float32, float32, float32, float32[:]], target='gpu')\n",
      "def NonLinCudaJit(u, dx, dt, nt, un):\n",
      "    tid = cuda.threadIdx.x\n",
      "    blkid = cuda.blockIdx.x\n",
      "    blkdim = cuda.blockDim.x\n",
      "    i = tid + blkid * blkdim\n",
      "\n",
      "    if i >= u.shape[0]:\n",
      "        return\n",
      "\n",
      "    for n in range(nt):\n",
      "        un[i] = -u[i]*dt/dx*(u[i]-u[i-1])+u[i]\n",
      "        \n",
      "        cuda.syncthreads()"
     ],
     "language": "python",
     "metadata": {},
     "outputs": [],
     "prompt_number": 6
    },
    {
     "cell_type": "code",
     "collapsed": false,
     "input": [
      "def main(nx):\n",
      "    ##System Conditions    \n",
      "    #nx = 500 \n",
      "    nt = 500\n",
      "    c = 1\n",
      "    xmax = 15.0\n",
      "    dx = xmax/(nx-1)\n",
      "    sigma = 0.25\n",
      "    dt = sigma*dx\n",
      "\n",
      "    ##Initial Conditions for wave\n",
      "    ui = np.ones(nx) ##create a 1xn vector of 1's\n",
      "    ui[.5/dx:1/dx+1]=2 ##set hat function I.C. : .5<=x<=1 is 2\n",
      "    un = np.ones(nx)    \n",
      "\n",
      "    if nx < 20001:\n",
      "        t1 = time.time()\n",
      "        u = NonLinVanilla(ui, nx, nt, dx, dt)\n",
      "        t2 = time.time()\n",
      "        print \"Vanilla version took: %.6f seconds\" % (t2-t1)\n",
      "    \n",
      "    \n",
      "    ui = np.ones(nx) ##create a 1xn vector of 1's\n",
      "    ui[.5/dx:1/dx+1]=2 ##set hat function I.C. : .5<=x<=1 is 2\n",
      "    \n",
      "    t1 = time.time()\n",
      "    u = NonLinNumpy(ui, un, nx, nt, dx, dt)\n",
      "    t2 = time.time()\n",
      "    print \"Numpy version took: %.6f seconds\" % (t2-t1)\n",
      "    numpytime = t2-t1\n",
      "    #plt.plot(numpy.linspace(0,xmax,nx),u[:],marker='o',lw=2)\n",
      "\n",
      "    \n",
      "    ui = np.ones(nx) ##create a 1xn vector of 1's\n",
      "    ui[.5/dx:1/dx+1]=2 ##set hat function I.C. : .5<=x<=1 is 2\n",
      "    \n",
      "    t1 = time.time()\n",
      "    u = NonLinNumba(ui, un, nx, nt, dx, dt)\n",
      "    t2 = time.time()\n",
      "    print \"Numbapro Vectorize version took: %.6f seconds\" % (t2-t1)\n",
      "    vectime = t2-t1\n",
      "    #plt.plot(numpy.linspace(0,xmax,nx),u[:],marker='o',lw=2)\n",
      "\n",
      "    u = np.ones(nx)\n",
      "    u = ui.copy()\n",
      "    griddim = 320, 1\n",
      "    blockdim = 768, 1, 1\n",
      "    NonLinCudaJit_conf = NonLinCudaJit[griddim, blockdim]\n",
      "    t1 = time.time()\n",
      "    NonLinCudaJit(u, dx, dt, nt, un)\n",
      "    t2 = time.time()\n",
      "\n",
      "    print \"Numbapro Cuda version took: %.6f seconds\" % (t2-t1)\n",
      "    cudatime = t2-t1"
     ],
     "language": "python",
     "metadata": {},
     "outputs": [],
     "prompt_number": 14
    },
    {
     "cell_type": "code",
     "collapsed": false,
     "input": [
      "main(500)"
     ],
     "language": "python",
     "metadata": {},
     "outputs": [
      {
       "output_type": "stream",
       "stream": "stdout",
       "text": [
        "Vanilla version took: 0.581475 seconds\n",
        "Numpy version took: 0.007635 seconds\n",
        "Numbapro Vectorize version took: 0.000966 seconds\n",
        "Numbapro Cuda version took: 0.002658 seconds\n"
       ]
      }
     ],
     "prompt_number": 10
    },
    {
     "cell_type": "code",
     "collapsed": false,
     "input": [
      "main(1000)"
     ],
     "language": "python",
     "metadata": {},
     "outputs": [
      {
       "output_type": "stream",
       "stream": "stdout",
       "text": [
        "Vanilla version took: 1.140803 seconds\n",
        "Numpy version took: 0.008878 seconds\n",
        "Numbapro Vectorize version took: 0.001837 seconds\n",
        "Numbapro Cuda version took: 0.002678 seconds\n"
       ]
      }
     ],
     "prompt_number": 11
    },
    {
     "cell_type": "code",
     "collapsed": false,
     "input": [
      "main(5000)"
     ],
     "language": "python",
     "metadata": {},
     "outputs": [
      {
       "output_type": "stream",
       "stream": "stdout",
       "text": [
        "Vanilla version took: 5.336566 seconds\n",
        "Numpy version took: 0.023648 seconds\n",
        "Numbapro Vectorize version took: 0.009166 seconds\n",
        "Numbapro Cuda version took: 0.002717 seconds\n"
       ]
      }
     ],
     "prompt_number": 12
    },
    {
     "cell_type": "code",
     "collapsed": false,
     "input": [
      "main(10000)"
     ],
     "language": "python",
     "metadata": {},
     "outputs": [
      {
       "output_type": "stream",
       "stream": "stdout",
       "text": [
        "Vanilla version took: 10.719647 seconds\n",
        "Numpy version took: 0.043988 seconds\n",
        "Numbapro Vectorize version took: 0.018464 seconds"
       ]
      },
      {
       "output_type": "stream",
       "stream": "stdout",
       "text": [
        "\n",
        "Numbapro Cuda version took: 0.002899 seconds\n"
       ]
      }
     ],
     "prompt_number": 13
    },
    {
     "cell_type": "code",
     "collapsed": false,
     "input": [
      "main(20000)"
     ],
     "language": "python",
     "metadata": {},
     "outputs": [
      {
       "output_type": "stream",
       "stream": "stdout",
       "text": [
        "Vanilla version took: 21.414605 seconds\n",
        "Numpy version took: 0.083821 seconds"
       ]
      },
      {
       "output_type": "stream",
       "stream": "stdout",
       "text": [
        "\n",
        "Numbapro Vectorize version took: 0.036616 seconds\n",
        "Numbapro Cuda version took: 0.002943 seconds\n"
       ]
      }
     ],
     "prompt_number": 15
    },
    {
     "cell_type": "code",
     "collapsed": false,
     "input": [
      "main(50000)"
     ],
     "language": "python",
     "metadata": {},
     "outputs": [
      {
       "output_type": "stream",
       "stream": "stdout",
       "text": [
        "Numpy version took: 0.207808 seconds\n",
        "Numbapro Vectorize version took: 0.093922 seconds"
       ]
      },
      {
       "output_type": "stream",
       "stream": "stdout",
       "text": [
        "\n",
        "Numbapro Cuda version took: 0.003228 seconds\n"
       ]
      }
     ],
     "prompt_number": 16
    },
    {
     "cell_type": "code",
     "collapsed": false,
     "input": [
      "main(100000)"
     ],
     "language": "python",
     "metadata": {},
     "outputs": [
      {
       "output_type": "stream",
       "stream": "stdout",
       "text": [
        "Numpy version took: 0.456931 seconds\n",
        "Numbapro Vectorize version took: 0.189677 seconds"
       ]
      },
      {
       "output_type": "stream",
       "stream": "stdout",
       "text": [
        "\n",
        "Numbapro Cuda version took: 0.004876 seconds\n"
       ]
      }
     ],
     "prompt_number": 17
    },
    {
     "cell_type": "code",
     "collapsed": false,
     "input": [
      "main(200000)"
     ],
     "language": "python",
     "metadata": {},
     "outputs": [
      {
       "output_type": "stream",
       "stream": "stdout",
       "text": [
        "Numpy version took: 1.255342 seconds\n",
        "Numbapro Vectorize version took: 0.393786 seconds"
       ]
      },
      {
       "output_type": "stream",
       "stream": "stdout",
       "text": [
        "\n",
        "Numbapro Cuda version took: 0.005403 seconds\n"
       ]
      }
     ],
     "prompt_number": 18
    },
    {
     "cell_type": "code",
     "collapsed": false,
     "input": [
      "from IPython.core.display import HTML\n",
      "def css_styling():\n",
      "    styles = open(\"../styles/custom.css\", \"r\").read()\n",
      "    return HTML(styles)\n",
      "css_styling()"
     ],
     "language": "python",
     "metadata": {},
     "outputs": [
      {
       "html": [
        "<style>\n",
        "    @font-face {\n",
        "        font-family: \"Computer Modern\";\n",
        "        src: url('http://mirrors.ctan.org/fonts/cm-unicode/fonts/otf/cmunss.otf');\n",
        "    }\n",
        "    div.cell{\n",
        "        width:800px;\n",
        "        margin-left:16% !important;\n",
        "        margin-right:auto;\n",
        "    }\n",
        "    h1 {\n",
        "        font-family: Helvetica, serif;\n",
        "    }\n",
        "    h2 {\n",
        "        font-family: Helvetica, serif;\n",
        "    }\n",
        "    h4{\n",
        "        margin-top:12px;\n",
        "        margin-bottom: 3px;\n",
        "       }\n",
        "    div.text_cell_render{\n",
        "        font-family: Computer Modern, \"Helvetica Neue\", Arial, Helvetica, Geneva, sans-serif;\n",
        "        line-height: 135%;\n",
        "        font-size: 120%;\n",
        "        width:600px;\n",
        "        margin-left:auto;\n",
        "        margin-right:auto;\n",
        "    }\n",
        "    .CodeMirror{\n",
        "            font-family: \"Source Code Pro\", source-code-pro,Consolas, monospace;\n",
        "    }\n",
        "/*    .prompt{\n",
        "        display: None;\n",
        "    }*/\n",
        "    .text_cell_render h5 {\n",
        "        font-weight: 300;\n",
        "        font-size: 16pt;\n",
        "        color: #4057A1;\n",
        "        font-style: italic;\n",
        "        margin-bottom: .5em;\n",
        "        margin-top: 0.5em;\n",
        "        display: block;\n",
        "    }\n",
        "    \n",
        "    .warning{\n",
        "        color: rgb( 240, 20, 20 )\n",
        "        }  \n",
        "</style>\n",
        "<script>\n",
        "    MathJax.Hub.Config({\n",
        "                        TeX: {\n",
        "                           extensions: [\"AMSmath.js\"]\n",
        "                           },\n",
        "                tex2jax: {\n",
        "                    inlineMath: [ ['$','$'], [\"\\\\(\",\"\\\\)\"] ],\n",
        "                    displayMath: [ ['$$','$$'], [\"\\\\[\",\"\\\\]\"] ]\n",
        "                },\n",
        "                displayAlign: 'center', // Change this to 'center' to center equations.\n",
        "                \"HTML-CSS\": {\n",
        "                    styles: {'.MathJax_Display': {\"margin\": 4}}\n",
        "                }\n",
        "        });\n",
        "</script>"
       ],
       "output_type": "pyout",
       "prompt_number": 1,
       "text": [
        "<IPython.core.display.HTML at 0x349ded0>"
       ]
      }
     ],
     "prompt_number": 1
    },
    {
     "cell_type": "code",
     "collapsed": false,
     "input": [],
     "language": "python",
     "metadata": {},
     "outputs": []
    }
   ],
   "metadata": {}
  }
 ]
}
