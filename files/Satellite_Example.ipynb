{
  "cells": [
    {
      "cell_type": "code",
      "execution_count": null,
      "metadata": {
        "collapsed": false
      },
      "outputs": [],
      "source": [
        "%matplotlib inline"
      ]
    },
    {
      "cell_type": "markdown",
      "metadata": {},
      "source": [
        "\n# WV Satellite Overlay Example\n\n\nPlot a Gini Satellite file and overlay GFS-based data.\n\nUsing the Gini read capability of MetPy with Siphon to bring in the best GFS\ndata according to the current time, plot an overlay of WV imagery with 300-hPa\nGeopotential Heights and Wind Barbs.\n\n"
      ]
    },
    {
      "cell_type": "markdown",
      "metadata": {},
      "source": [
        "Begin with imports, need a lot for this task.\n\n"
      ]
    },
    {
      "cell_type": "code",
      "execution_count": null,
      "metadata": {
        "collapsed": false
      },
      "outputs": [],
      "source": [
        "# A whole bunch of imports\nfrom datetime import datetime\nfrom urllib.request import urlopen\n\nimport cartopy.crs as ccrs\nimport cartopy.feature as cfeat\nfrom matplotlib import patheffects\nimport matplotlib.pyplot as plt\nfrom metpy.io import GiniFile\nfrom metpy.plots.ctables import registry\nfrom metpy.units import units\nfrom netCDF4 import num2date\nimport scipy.ndimage as ndimage\nfrom siphon.catalog import TDSCatalog\nfrom siphon.ncss import NCSS"
      ]
    },
    {
      "cell_type": "markdown",
      "metadata": {},
      "source": [
        "Get satellite data and set projection based on that data.\n\n"
      ]
    },
    {
      "cell_type": "code",
      "execution_count": null,
      "metadata": {
        "collapsed": false
      },
      "outputs": [],
      "source": [
        "# Scan the catalog and download the data\nsatcat = TDSCatalog('http://thredds.ucar.edu/thredds/catalog/satellite/'\n                    'WV/EAST-CONUS_4km/current/catalog.xml')\ndataset = satcat.datasets[list(satcat.datasets)[0]]\ngini_ds = GiniFile(urlopen(dataset.access_urls['HTTPServer'])).to_dataset()\n\n# Pull parts out of the data file\ndata_var = gini_ds.variables['WV']\nx = gini_ds.variables['x'][:]\ny = gini_ds.variables['y'][:]\ntime_var = gini_ds.variables['time']\nproj_var = gini_ds.variables[data_var.grid_mapping]\n\n# Set up the projection based on satellite projection\nglobe = ccrs.Globe(ellipse='sphere', semimajor_axis=proj_var.earth_radius,\n                   semiminor_axis=proj_var.earth_radius)\n\nproj = ccrs.LambertConformal(central_longitude=proj_var.longitude_of_central_meridian,\n                             central_latitude=proj_var.latitude_of_projection_origin,\n                             standard_parallels=[proj_var.standard_parallel],\n                             globe=globe)"
      ]
    },
    {
      "cell_type": "markdown",
      "metadata": {},
      "source": [
        "Use Siphon to obtain data that is close to the time of the satellite file\n\n"
      ]
    },
    {
      "cell_type": "code",
      "execution_count": null,
      "metadata": {
        "collapsed": false
      },
      "outputs": [],
      "source": [
        "gfscat = TDSCatalog('http://thredds.ucar.edu/thredds/catalog/grib/'\n                    'NCEP/GFS/Global_0p5deg/catalog.xml')\ndataset = gfscat.datasets[list(gfscat.datasets)[1]]\nncss = NCSS(dataset.access_urls['NetcdfSubset'])\nnow = datetime.utcnow()\n\nquery = ncss.query()\nquery.variables('Geopotential_height_isobaric',\n                'u-component_of_wind_isobaric',\n                'v-component_of_wind_isobaric')\nquery.add_lonlat().vertical_level(300*100)\nquery.time(now)\nquery.lonlat_box(north=65, south=15, east=310, west=220)\ndata = ncss.get_data(query)"
      ]
    },
    {
      "cell_type": "markdown",
      "metadata": {},
      "source": [
        "Pull out specific variables and attach units.\n\n"
      ]
    },
    {
      "cell_type": "code",
      "execution_count": null,
      "metadata": {
        "collapsed": false
      },
      "outputs": [],
      "source": [
        "hght_300 = data.variables['Geopotential_height_isobaric'][:].squeeze() * units.meter\nuwnd_300 = data.variables['u-component_of_wind_isobaric'][:].squeeze() * units('m/s')\nvwnd_300 = data.variables['v-component_of_wind_isobaric'][:].squeeze() * units('m/s')\n\nZ_300 = ndimage.gaussian_filter(hght_300, sigma=4, order=0)\n\nlon = data.variables['lon'][:]\nlat = data.variables['lat'][:]\ntime = data.variables[data.variables['Geopotential_height_isobaric'].dimensions[0]]\nvtime = num2date(time[:], time.units)"
      ]
    },
    {
      "cell_type": "markdown",
      "metadata": {},
      "source": [
        "Create figure with an overlay of WV Imagery with 300-hPa Heights and Wind\n\n"
      ]
    },
    {
      "cell_type": "code",
      "execution_count": null,
      "metadata": {
        "collapsed": false
      },
      "outputs": [],
      "source": [
        "# Create the figure\nfig = plt.figure(figsize=(10, 10))\nax = fig.add_subplot(1, 1, 1, projection=proj)\n\n# Add mapping information\nax.coastlines(resolution='50m', color='black')\nstate_boundaries = cfeat.NaturalEarthFeature(category='cultural',\n                                             name='admin_1_states_provinces_lakes',\n                                             scale='50m', facecolor='none')\n\nax.add_feature(state_boundaries, edgecolor='black', linestyle=':')\nax.add_feature(cfeat.BORDERS, linewidth=2, edgecolor='black')\n\n# Plot the image with our colormapping choices\nwv_norm, wv_cmap = registry.get_with_steps('WVCIMSS', 0, 1)\nim = ax.imshow(data_var[:], extent=(x[0], x[-1], y[0], y[-1]), origin='upper',\n               cmap=wv_cmap, norm=wv_norm)\n\n# Add the text, complete with outline\ntimestamp = num2date(time_var[:].squeeze(), time_var.units)\ntext = ax.text(0.99, 0.01, timestamp.strftime('%d %B %Y %H%MZ'),\n               horizontalalignment='right', transform=ax.transAxes,\n               color='white', fontsize='x-large', weight='bold')\ntext.set_path_effects([patheffects.withStroke(linewidth=2, foreground='black')])\n\n# PLOT 300-hPa Geopotential Heights and Wind Barbs\nax.set_extent([-112, -65, 20, 59], ccrs.Geodetic())\ncs = ax.contour(lon, lat, Z_300, colors='black', transform=ccrs.PlateCarree())\nax.clabel(cs, fontsize=12, colors='k', inline=1, inline_spacing=8,\n          fmt='%i', rightside_up=True, use_clabeltext=True)\n\nax.barbs(lon, lat, uwnd_300.to('knots').m, vwnd_300.to('knots').m, color='tab:red',\n         length=7, regrid_shape=15, pivot='middle', transform=ccrs.PlateCarree())\n\nax.set_title('300-hPa Geo Heights (m; black) and Wind Barbs (kt)', loc='left')\nax.set_title('Valid: {}'.format(vtime[0]), loc='right')\n\nplt.show()"
      ]
    }
  ],
  "metadata": {
    "kernelspec": {
      "display_name": "Python 3",
      "language": "python",
      "name": "python3"
    },
    "language_info": {
      "codemirror_mode": {
        "name": "ipython",
        "version": 3
      },
      "file_extension": ".py",
      "mimetype": "text/x-python",
      "name": "python",
      "nbconvert_exporter": "python",
      "pygments_lexer": "ipython3",
      "version": "3.6.3"
    }
  },
  "nbformat": 4,
  "nbformat_minor": 0
}